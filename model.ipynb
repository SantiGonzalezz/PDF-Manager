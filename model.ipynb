{
 "cells": [
  {
   "cell_type": "code",
   "execution_count": 1,
   "metadata": {},
   "outputs": [],
   "source": [
    "import model"
   ]
  },
  {
   "cell_type": "code",
   "execution_count": 2,
   "metadata": {},
   "outputs": [],
   "source": [
    "reader = model.read_pdf('./Train/Input/Nativity_Example.pdf')"
   ]
  },
  {
   "cell_type": "code",
   "execution_count": 6,
   "metadata": {},
   "outputs": [],
   "source": [
    "a = model.extract_pdf_text(reader, 1,1)"
   ]
  },
  {
   "cell_type": "code",
   "execution_count": 7,
   "metadata": {},
   "outputs": [
    {
     "name": "stdout",
     "output_type": "stream",
     "text": [
      "The nativity of Jesus, nativity of Christ, birth of Jesus or birth of Christ is described in the biblical\n",
      "gospels of Luke and Matthew . The two accounts agree that Jesus was born in Bethlehem in\n",
      "Judaea, his mother Mary was engaged to a man named Joseph, who was descended from King\n",
      "David and was not his biological father , and that his birth was caused by divine intervention.\n",
      "Many modern scholars consider the birth narratives unhistorical because they are laced with\n",
      "theology and present two dif ferent accounts which cannot be harmonised into a single coherent\n",
      "narrative. But many others view the discussion of historicity as secondary , given that gospels\n",
      "were primarily written as theological documents rather than chronological timelines.\n",
      "The nativity is the basis for the Christian holiday of Christmas, and plays a major role in the\n",
      "Christian liturgical year . Many Christians traditionally display small manger scenes depicting the\n",
      "nativity in their homes, or attend nativity plays or Christmas pageants focusing on the nativity\n",
      "cycle in the Bible. Elaborate nativity displays featuring life-sized statues are a tradition in many\n",
      "continental European countries during the Christmas season.\n",
      "The artistic depiction of the nativity has been an important subject for Christian artists since the\n",
      "4th century . Artistic depictions of the nativity scene since the 13th century have emphasized the\n",
      "humility of Jesus and promoted a more tender image of him, a major change from the early \"Lord\n",
      "and Master\" image, mirroring changes in the common approaches taken by Christian pastoral\n",
      "ministry during the same era.\n",
      "The nativity of Jesus, nativity of Christ, birth of Jesus or birth of Christ is described in the biblical\n",
      "gospels of Luke and Matthew . The two accounts agree that Jesus was born in Bethlehem in\n",
      "Judaea, his mother Mary was engaged to a man named Joseph, who was descended from King\n",
      "David and was not his biological father , and that his birth was caused by divine intervention.\n",
      "Many modern scholars consider the birth narratives unhistorical because they are laced with\n",
      "theology and present two dif ferent accounts which cannot be harmonised into a single coherent\n",
      "narrative. But many others view the discussion of historicity as secondary , given that gospels\n",
      "were primarily written as theological documents rather than chronological timelines.\n",
      "The nativity is the basis for the Christian holiday of Christmas, and plays a major role in the\n",
      "Christian liturgical year . Many Christians traditionally display small manger scenes depicting the\n",
      "nativity in their homes, or attend nativity plays or Christmas pageants focusing on the nativity\n",
      "cycle in the Bible. Elaborate nativity displays featuring life-sized statues are a tradition in many\n",
      "continental European countries during the Christmas season.\n",
      "The artistic depiction of the nativity has been an important subject for Christian artists since the\n",
      "4th century . Artistic depictions of the nativity scene since the 13th century have emphasized the\n",
      "humility of Jesus and promoted a more tender image of him, a major change from the early \"Lord\n",
      "and Master\" image, mirroring changes in the common approaches taken by Christian pastoral\n",
      "ministry during the same era.\n",
      "Early Christians viewed Jesus as \"the Lord\" and the word Kyrios appears over 700 times in the\n",
      "New Testament, referring to him as such.[1 12] The use of the word Kyrios in the Septuagint Bible\n"
     ]
    }
   ],
   "source": [
    "print(a)"
   ]
  },
  {
   "cell_type": "code",
   "execution_count": 3,
   "metadata": {},
   "outputs": [
    {
     "name": "stdout",
     "output_type": "stream",
     "text": [
      "0-1\n",
      "0-2\n",
      "-1_2\n",
      "----\n",
      "2-3\n",
      "2-4\n",
      "-3_4\n",
      "----\n",
      "4-5\n",
      "4-6\n",
      "-5_6\n",
      "----\n",
      "6-7\n",
      "6-8\n",
      "-7_8\n",
      "----\n",
      "8-9\n",
      "-9_10\n",
      "----\n"
     ]
    }
   ],
   "source": [
    "step = 2\n",
    "maxp = 9\n",
    "cheat= 0\n",
    "for i in range(1-1, maxp, step):\n",
    "    for j in range(i, i+step):\n",
    "        if j >= maxp:\n",
    "            cheat=j-i\n",
    "            continue\n",
    "        print(f'{i}-{j+1}')\n",
    "    print(f'-{i+1}_{j+1}')\n",
    "    print('----')"
   ]
  },
  {
   "cell_type": "code",
   "execution_count": 4,
   "metadata": {},
   "outputs": [],
   "source": [
    "model.split_pdf_fixed_ranges(reader, 1)"
   ]
  },
  {
   "cell_type": "code",
   "execution_count": 7,
   "metadata": {},
   "outputs": [
    {
     "data": {
      "text/plain": [
       "{'1', '2'}"
      ]
     },
     "execution_count": 7,
     "metadata": {},
     "output_type": "execute_result"
    }
   ],
   "source": [
    "a = '1,2'\n",
    "b = a.split(',')\n",
    "set(b)"
   ]
  }
 ],
 "metadata": {
  "kernelspec": {
   "display_name": "venv",
   "language": "python",
   "name": "python3"
  },
  "language_info": {
   "codemirror_mode": {
    "name": "ipython",
    "version": 3
   },
   "file_extension": ".py",
   "mimetype": "text/x-python",
   "name": "python",
   "nbconvert_exporter": "python",
   "pygments_lexer": "ipython3",
   "version": "3.10.6"
  }
 },
 "nbformat": 4,
 "nbformat_minor": 2
}
